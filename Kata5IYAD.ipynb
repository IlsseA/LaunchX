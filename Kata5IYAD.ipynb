{
 "cells": [
  {
   "cell_type": "markdown",
   "metadata": {},
   "source": [
    "Ejercicio1 - Utilizar operadores aritméticos"
   ]
  },
  {
   "cell_type": "code",
   "execution_count": 3,
   "metadata": {},
   "outputs": [
    {
     "name": "stdout",
     "output_type": "stream",
     "text": [
      "628949330\n",
      "390577534\n"
     ]
    }
   ],
   "source": [
    "# Crear variables para almacenar las dos distancias\n",
    "# Calcular la distancia entre planetas\n",
    "\n",
    "tierra = 149597870\n",
    "jupiter = 778547200\n",
    "print(jupiter-tierra)\n",
    "print(round((jupiter-tierra)*0.621))\n"
   ]
  },
  {
   "cell_type": "markdown",
   "metadata": {},
   "source": [
    "\n",
    "Ejercicio 2: convierte cadenas en números y usa valores absolutos"
   ]
  },
  {
   "cell_type": "code",
   "execution_count": 5,
   "metadata": {},
   "outputs": [
    {
     "name": "stdout",
     "output_type": "stream",
     "text": [
      "50300000\n",
      "31236300.0\n"
     ]
    }
   ],
   "source": [
    "# Almacenar las entradas del usuario\n",
    "nom_primer_planeta = input (\"Agregue el nombre de su primer planeta\")\n",
    "dis_primer_planeta = input (\"Agregue la distancia que tiene el planeta  \" + nom_primer_planeta)\n",
    "nom_segundo_planeta = input(\"Agregue el nombre de su segundo planeta\")\n",
    "dis_seg_planeta = input(\"Agregue la distancia que tiene el segundo  \" + nom_segundo_planeta)\n",
    "\n",
    "# Convierte las cadenas de ambos planetas a números enteros\n",
    "dis_primer_planeta = int(dis_primer_planeta)\n",
    "dis_seg_planeta = int(dis_seg_planeta)\n",
    "\n",
    "# Realizar el cálculo y determinar el valor absoluto\n",
    "dis_entre_planetas = (abs(dis_primer_planeta-dis_seg_planeta))\n",
    "print(dis_entre_planetas)\n",
    "\n",
    "# Convertir de KM a Millas\n",
    "print(abs((dis_entre_planetas)*.621))\n"
   ]
  }
 ],
 "metadata": {
  "interpreter": {
   "hash": "38d51dd8e8d25c2b4859ddf5fde4d8615b38902fd48d30a19bf46ddb81d406a6"
  },
  "kernelspec": {
   "display_name": "Python 3.9.10 64-bit (windows store)",
   "language": "python",
   "name": "python3"
  },
  "language_info": {
   "codemirror_mode": {
    "name": "ipython",
    "version": 3
   },
   "file_extension": ".py",
   "mimetype": "text/x-python",
   "name": "python",
   "nbconvert_exporter": "python",
   "pygments_lexer": "ipython3",
   "version": "3.9.10"
  },
  "orig_nbformat": 4
 },
 "nbformat": 4,
 "nbformat_minor": 2
}

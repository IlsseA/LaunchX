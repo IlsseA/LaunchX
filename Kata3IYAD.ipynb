{
 "cells": [
  {
   "cell_type": "markdown",
   "metadata": {},
   "source": [
    "Ejercicio - Escribir declaraciones  if, else y elif"
   ]
  },
  {
   "cell_type": "code",
   "execution_count": 1,
   "metadata": {},
   "outputs": [
    {
     "name": "stdout",
     "output_type": "stream",
     "text": [
      "Advertencia asteroide a la tierra\n"
     ]
    }
   ],
   "source": [
    "# Ejercicio if / else\n",
    "ast = 49\n",
    "if ast >= 25:\n",
    "    print(\"Advertencia asteroide a la tierra\")\n",
    "else:\n",
    "    print(\"No hay problema\")\n"
   ]
  },
  {
   "cell_type": "code",
   "execution_count": 2,
   "metadata": {},
   "outputs": [
    {
     "name": "stdout",
     "output_type": "stream",
     "text": [
      "Sigan con su dia\n"
     ]
    }
   ],
   "source": [
    "# Ejercicio if / else / elif\n",
    "ast = 19\n",
    "if  ast > 20:\n",
    "    print(\"Mirar al cielo hay un rayo de luz\")\n",
    "elif ast == 20:\n",
    "    print(\"mirar al cielo hay un rayo de luz\")\n",
    "else:\n",
    "    print(\"Sigan con su dia\")"
   ]
  },
  {
   "cell_type": "code",
   "execution_count": 3,
   "metadata": {},
   "outputs": [
    {
     "name": "stdout",
     "output_type": "stream",
     "text": [
      "Voltear al cielo hay una luz\n"
     ]
    }
   ],
   "source": [
    "# Ejercicio: Usp de operadores  and y or \n",
    "ast_vel = 25\n",
    "ast_tam = 40\n",
    "if ast_vel > 25 and ast_tam > 25:\n",
    "    print(\"PELIGRO! Asteroide viene hacia la tierra\")\n",
    "elif ast_vel >= 20:\n",
    "    print(\"Voltear al cielo hay una luz\")\n",
    "elif ast_tam < 25:\n",
    "    print(\"Siga con su dia\")\n",
    "else:\n",
    "    print(\"Siga con su dia\")"
   ]
  },
  {
   "cell_type": "code",
   "execution_count": null,
   "metadata": {},
   "outputs": [],
   "source": []
  }
 ],
 "metadata": {
  "interpreter": {
   "hash": "38d51dd8e8d25c2b4859ddf5fde4d8615b38902fd48d30a19bf46ddb81d406a6"
  },
  "kernelspec": {
   "display_name": "Python 3.9.10 64-bit (windows store)",
   "language": "python",
   "name": "python3"
  },
  "language_info": {
   "codemirror_mode": {
    "name": "ipython",
    "version": 3
   },
   "file_extension": ".py",
   "mimetype": "text/x-python",
   "name": "python",
   "nbconvert_exporter": "python",
   "pygments_lexer": "ipython3",
   "version": "3.9.10"
  },
  "orig_nbformat": 4
 },
 "nbformat": 4,
 "nbformat_minor": 2
}

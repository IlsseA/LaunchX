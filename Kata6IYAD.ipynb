{
 "cells": [
  {
   "cell_type": "markdown",
   "metadata": {},
   "source": [
    "Ejercicio1: Crear y usar listas de Python"
   ]
  },
  {
   "cell_type": "code",
   "execution_count": 3,
   "metadata": {},
   "outputs": [
    {
     "name": "stdout",
     "output_type": "stream",
     "text": [
      "['Mercurio', 'Venus', 'Tierra', 'Marte', 'Jupiter', 'Saturno', 'Urano', 'Neptuno']\n",
      "Hay 8 planetas en el sistema solar.\n",
      "Ahora hay 9 planetas en el sistema solar.\n",
      "El ultimo planeta es Pluton\n"
     ]
    }
   ],
   "source": [
    "# Creamos la lista planets y la mostramos\n",
    "\n",
    "planetas = ['Mercurio', 'Venus', 'Tierra', 'Marte', 'Jupiter', 'Saturno', 'Urano', 'Neptuno']\n",
    "print(planetas)\n",
    "cant_planetas = len(planetas)\n",
    "print('Hay', cant_planetas, 'planetas en el sistema solar.')\n",
    "\n",
    "\n",
    "\n",
    "# Agregamos a plutón y mostramos el último elemento\n",
    "\n",
    "planetas.append('Pluton')\n",
    "cant_planetas = len(planetas)\n",
    "print('Ahora hay', cant_planetas, 'planetas en el sistema solar.')\n",
    "print('El ultimo planeta es', planetas[-1])"
   ]
  },
  {
   "cell_type": "markdown",
   "metadata": {},
   "source": [
    "Ejercicio 2: Trabajando con datos de una lista"
   ]
  },
  {
   "cell_type": "code",
   "execution_count": 16,
   "metadata": {},
   "outputs": [
    {
     "name": "stdout",
     "output_type": "stream",
     "text": [
      "Urano\n",
      "['Mercury', 'Venus', 'Earth', 'Mars', 'Jupiter', 'Saturn', 'Neptune', 'Urano']\n",
      "7\n",
      "Estos son los planetas mas cercanos que Urano\n",
      "['Mercury', 'Venus', 'Earth', 'Mars', 'Jupiter', 'Saturn', 'Neptune']\n",
      "Estos son los planetas mas cercanos que Urano\n",
      "[]\n"
     ]
    }
   ],
   "source": [
    "# Lista de planetas\n",
    "planets = ['Mercury', 'Venus', 'Earth', 'Mars', 'Jupiter', 'Saturn', 'Neptune']\n",
    "\n",
    "# Solicitamos el nombre de un planeta *Pista:  input()*\n",
    "\n",
    "insert_planet = input('Inserte un planeta a nuestra lista recuerde que la primera letra debe ser Mayuscula' )\n",
    "planets.append(insert_planet)\n",
    "print(insert_planet)\n",
    "print(planets)\n",
    "# Busca el planeta en la lista\n",
    "search_planet = planets.index(insert_planet)\n",
    "print(search_planet)\n",
    "\n",
    "# Muestra los planetas más cercanos al sol\n",
    "print('Estos son los planetas mas cercanos que ' + insert_planet)\n",
    "print(planets[0:search_planet])\n",
    "\n",
    "\n",
    "\n",
    "# Muestra los planetas más lejanos al sol\n",
    "\n",
    "print('Estos son los planetas mas cercanos que ' + insert_planet)\n",
    "print(planets[search_planet + 1:])\n",
    "\n"
   ]
  }
 ],
 "metadata": {
  "interpreter": {
   "hash": "38d51dd8e8d25c2b4859ddf5fde4d8615b38902fd48d30a19bf46ddb81d406a6"
  },
  "kernelspec": {
   "display_name": "Python 3.9.10 64-bit (windows store)",
   "language": "python",
   "name": "python3"
  },
  "language_info": {
   "codemirror_mode": {
    "name": "ipython",
    "version": 3
   },
   "file_extension": ".py",
   "mimetype": "text/x-python",
   "name": "python",
   "nbconvert_exporter": "python",
   "pygments_lexer": "ipython3",
   "version": "3.9.10"
  },
  "orig_nbformat": 4
 },
 "nbformat": 4,
 "nbformat_minor": 2
}
